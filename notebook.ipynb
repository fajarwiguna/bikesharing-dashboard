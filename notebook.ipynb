{
  "cells": [
    {
      "cell_type": "markdown",
      "metadata": {
        "id": "H9wADwK78DCz"
      },
      "source": [
        "# Proyek Analisis Data: bike-sharing-dataset\n",
        "- **Nama:** Fajar Satria Wiguna\n",
        "- **Email:** fajarsatria991@gmail.com\n",
        "- **ID Dicoding:** fajarwiguna"
      ]
    },
    {
      "cell_type": "markdown",
      "metadata": {
        "id": "eE0raob58DC0"
      },
      "source": [
        "## Menentukan Pertanyaan Bisnis"
      ]
    },
    {
      "cell_type": "markdown",
      "metadata": {
        "id": "GmQeQ5YF8DC0"
      },
      "source": [
        "- Bagaimana pola peminjaman sepeda berdasarkan bulan?\n",
        "- Bagaimana pengaruh kondisi cuaca (weathersit, suhu, kelembaban, kecepatan angin) terhadap jumlah - peminjaman sepeda?\n",
        "- Bagaimana perbandingan jumlah peminjaman antara pengguna kasual dan pengguna terdaftar?\n",
        "- Apakah pengguna kasual lebih sering menggunakan sepeda pada akhir pekan dibandingkan hari kerja?"
      ]
    },
    {
      "cell_type": "markdown",
      "metadata": {
        "id": "H-z4QGlO8DC1"
      },
      "source": [
        "## Import Semua Packages/Library yang Digunakan"
      ]
    },
    {
      "cell_type": "code",
      "execution_count": 65,
      "metadata": {
        "colab": {
          "base_uri": "https://localhost:8080/"
        },
        "id": "FVYwaObI8DC1",
        "outputId": "79b4a4f2-6cf0-4241-a8c3-701d8a185644"
      },
      "outputs": [],
      "source": [
        "import numpy as np\n",
        "import pandas as pd\n",
        "import matplotlib.pyplot as plt\n",
        "import seaborn as sns"
      ]
    },
    {
      "cell_type": "markdown",
      "metadata": {
        "id": "h_Sh51Xy8DC1"
      },
      "source": [
        "## Data Wrangling"
      ]
    },
    {
      "cell_type": "markdown",
      "metadata": {
        "id": "sXU2GBYu8DC1"
      },
      "source": [
        "### Gathering Data"
      ]
    },
    {
      "cell_type": "code",
      "execution_count": 66,
      "metadata": {
        "colab": {
          "base_uri": "https://localhost:8080/",
          "height": 313
        },
        "id": "zjCBk1BI8DC1",
        "outputId": "7bd1356e-ecee-4750-bf33-161b66e9f2be"
      },
      "outputs": [
        {
          "data": {
            "text/html": [
              "<div>\n",
              "<style scoped>\n",
              "    .dataframe tbody tr th:only-of-type {\n",
              "        vertical-align: middle;\n",
              "    }\n",
              "\n",
              "    .dataframe tbody tr th {\n",
              "        vertical-align: top;\n",
              "    }\n",
              "\n",
              "    .dataframe thead th {\n",
              "        text-align: right;\n",
              "    }\n",
              "</style>\n",
              "<table border=\"1\" class=\"dataframe\">\n",
              "  <thead>\n",
              "    <tr style=\"text-align: right;\">\n",
              "      <th></th>\n",
              "      <th>instant</th>\n",
              "      <th>dteday</th>\n",
              "      <th>season</th>\n",
              "      <th>yr</th>\n",
              "      <th>mnth</th>\n",
              "      <th>hr</th>\n",
              "      <th>holiday</th>\n",
              "      <th>weekday</th>\n",
              "      <th>workingday</th>\n",
              "      <th>weathersit</th>\n",
              "      <th>temp</th>\n",
              "      <th>atemp</th>\n",
              "      <th>hum</th>\n",
              "      <th>windspeed</th>\n",
              "      <th>casual</th>\n",
              "      <th>registered</th>\n",
              "      <th>cnt</th>\n",
              "    </tr>\n",
              "  </thead>\n",
              "  <tbody>\n",
              "    <tr>\n",
              "      <th>0</th>\n",
              "      <td>1</td>\n",
              "      <td>2011-01-01</td>\n",
              "      <td>1</td>\n",
              "      <td>0</td>\n",
              "      <td>1</td>\n",
              "      <td>0</td>\n",
              "      <td>0</td>\n",
              "      <td>6</td>\n",
              "      <td>0</td>\n",
              "      <td>1</td>\n",
              "      <td>0.24</td>\n",
              "      <td>0.2879</td>\n",
              "      <td>0.81</td>\n",
              "      <td>0.0</td>\n",
              "      <td>3</td>\n",
              "      <td>13</td>\n",
              "      <td>16</td>\n",
              "    </tr>\n",
              "    <tr>\n",
              "      <th>1</th>\n",
              "      <td>2</td>\n",
              "      <td>2011-01-01</td>\n",
              "      <td>1</td>\n",
              "      <td>0</td>\n",
              "      <td>1</td>\n",
              "      <td>1</td>\n",
              "      <td>0</td>\n",
              "      <td>6</td>\n",
              "      <td>0</td>\n",
              "      <td>1</td>\n",
              "      <td>0.22</td>\n",
              "      <td>0.2727</td>\n",
              "      <td>0.80</td>\n",
              "      <td>0.0</td>\n",
              "      <td>8</td>\n",
              "      <td>32</td>\n",
              "      <td>40</td>\n",
              "    </tr>\n",
              "    <tr>\n",
              "      <th>2</th>\n",
              "      <td>3</td>\n",
              "      <td>2011-01-01</td>\n",
              "      <td>1</td>\n",
              "      <td>0</td>\n",
              "      <td>1</td>\n",
              "      <td>2</td>\n",
              "      <td>0</td>\n",
              "      <td>6</td>\n",
              "      <td>0</td>\n",
              "      <td>1</td>\n",
              "      <td>0.22</td>\n",
              "      <td>0.2727</td>\n",
              "      <td>0.80</td>\n",
              "      <td>0.0</td>\n",
              "      <td>5</td>\n",
              "      <td>27</td>\n",
              "      <td>32</td>\n",
              "    </tr>\n",
              "    <tr>\n",
              "      <th>3</th>\n",
              "      <td>4</td>\n",
              "      <td>2011-01-01</td>\n",
              "      <td>1</td>\n",
              "      <td>0</td>\n",
              "      <td>1</td>\n",
              "      <td>3</td>\n",
              "      <td>0</td>\n",
              "      <td>6</td>\n",
              "      <td>0</td>\n",
              "      <td>1</td>\n",
              "      <td>0.24</td>\n",
              "      <td>0.2879</td>\n",
              "      <td>0.75</td>\n",
              "      <td>0.0</td>\n",
              "      <td>3</td>\n",
              "      <td>10</td>\n",
              "      <td>13</td>\n",
              "    </tr>\n",
              "    <tr>\n",
              "      <th>4</th>\n",
              "      <td>5</td>\n",
              "      <td>2011-01-01</td>\n",
              "      <td>1</td>\n",
              "      <td>0</td>\n",
              "      <td>1</td>\n",
              "      <td>4</td>\n",
              "      <td>0</td>\n",
              "      <td>6</td>\n",
              "      <td>0</td>\n",
              "      <td>1</td>\n",
              "      <td>0.24</td>\n",
              "      <td>0.2879</td>\n",
              "      <td>0.75</td>\n",
              "      <td>0.0</td>\n",
              "      <td>0</td>\n",
              "      <td>1</td>\n",
              "      <td>1</td>\n",
              "    </tr>\n",
              "  </tbody>\n",
              "</table>\n",
              "</div>"
            ],
            "text/plain": [
              "   instant      dteday  season  yr  mnth  hr  holiday  weekday  workingday  \\\n",
              "0        1  2011-01-01       1   0     1   0        0        6           0   \n",
              "1        2  2011-01-01       1   0     1   1        0        6           0   \n",
              "2        3  2011-01-01       1   0     1   2        0        6           0   \n",
              "3        4  2011-01-01       1   0     1   3        0        6           0   \n",
              "4        5  2011-01-01       1   0     1   4        0        6           0   \n",
              "\n",
              "   weathersit  temp   atemp   hum  windspeed  casual  registered  cnt  \n",
              "0           1  0.24  0.2879  0.81        0.0       3          13   16  \n",
              "1           1  0.22  0.2727  0.80        0.0       8          32   40  \n",
              "2           1  0.22  0.2727  0.80        0.0       5          27   32  \n",
              "3           1  0.24  0.2879  0.75        0.0       3          10   13  \n",
              "4           1  0.24  0.2879  0.75        0.0       0           1    1  "
            ]
          },
          "execution_count": 66,
          "metadata": {},
          "output_type": "execute_result"
        }
      ],
      "source": [
        "bikes_per_hour_df = pd.read_csv('data/hour.csv')\n",
        "bikes_per_hour_df.head()"
      ]
    },
    {
      "cell_type": "markdown",
      "metadata": {
        "id": "MMi6xGaDkbCi"
      },
      "source": [
        "**Insight:**\n",
        "Dataset hour.csv berisi data peminjaman sepeda per jam, termasuk tanggal, musim, suhu, kelembaban, kecepatan angin, dan jumlah total peminjaman."
      ]
    },
    {
      "cell_type": "code",
      "execution_count": 67,
      "metadata": {},
      "outputs": [
        {
          "data": {
            "text/html": [
              "<div>\n",
              "<style scoped>\n",
              "    .dataframe tbody tr th:only-of-type {\n",
              "        vertical-align: middle;\n",
              "    }\n",
              "\n",
              "    .dataframe tbody tr th {\n",
              "        vertical-align: top;\n",
              "    }\n",
              "\n",
              "    .dataframe thead th {\n",
              "        text-align: right;\n",
              "    }\n",
              "</style>\n",
              "<table border=\"1\" class=\"dataframe\">\n",
              "  <thead>\n",
              "    <tr style=\"text-align: right;\">\n",
              "      <th></th>\n",
              "      <th>instant</th>\n",
              "      <th>dteday</th>\n",
              "      <th>season</th>\n",
              "      <th>yr</th>\n",
              "      <th>mnth</th>\n",
              "      <th>holiday</th>\n",
              "      <th>weekday</th>\n",
              "      <th>workingday</th>\n",
              "      <th>weathersit</th>\n",
              "      <th>temp</th>\n",
              "      <th>atemp</th>\n",
              "      <th>hum</th>\n",
              "      <th>windspeed</th>\n",
              "      <th>casual</th>\n",
              "      <th>registered</th>\n",
              "      <th>cnt</th>\n",
              "    </tr>\n",
              "  </thead>\n",
              "  <tbody>\n",
              "    <tr>\n",
              "      <th>0</th>\n",
              "      <td>1</td>\n",
              "      <td>2011-01-01</td>\n",
              "      <td>1</td>\n",
              "      <td>0</td>\n",
              "      <td>1</td>\n",
              "      <td>0</td>\n",
              "      <td>6</td>\n",
              "      <td>0</td>\n",
              "      <td>2</td>\n",
              "      <td>0.344167</td>\n",
              "      <td>0.363625</td>\n",
              "      <td>0.805833</td>\n",
              "      <td>0.160446</td>\n",
              "      <td>331</td>\n",
              "      <td>654</td>\n",
              "      <td>985</td>\n",
              "    </tr>\n",
              "    <tr>\n",
              "      <th>1</th>\n",
              "      <td>2</td>\n",
              "      <td>2011-01-02</td>\n",
              "      <td>1</td>\n",
              "      <td>0</td>\n",
              "      <td>1</td>\n",
              "      <td>0</td>\n",
              "      <td>0</td>\n",
              "      <td>0</td>\n",
              "      <td>2</td>\n",
              "      <td>0.363478</td>\n",
              "      <td>0.353739</td>\n",
              "      <td>0.696087</td>\n",
              "      <td>0.248539</td>\n",
              "      <td>131</td>\n",
              "      <td>670</td>\n",
              "      <td>801</td>\n",
              "    </tr>\n",
              "    <tr>\n",
              "      <th>2</th>\n",
              "      <td>3</td>\n",
              "      <td>2011-01-03</td>\n",
              "      <td>1</td>\n",
              "      <td>0</td>\n",
              "      <td>1</td>\n",
              "      <td>0</td>\n",
              "      <td>1</td>\n",
              "      <td>1</td>\n",
              "      <td>1</td>\n",
              "      <td>0.196364</td>\n",
              "      <td>0.189405</td>\n",
              "      <td>0.437273</td>\n",
              "      <td>0.248309</td>\n",
              "      <td>120</td>\n",
              "      <td>1229</td>\n",
              "      <td>1349</td>\n",
              "    </tr>\n",
              "    <tr>\n",
              "      <th>3</th>\n",
              "      <td>4</td>\n",
              "      <td>2011-01-04</td>\n",
              "      <td>1</td>\n",
              "      <td>0</td>\n",
              "      <td>1</td>\n",
              "      <td>0</td>\n",
              "      <td>2</td>\n",
              "      <td>1</td>\n",
              "      <td>1</td>\n",
              "      <td>0.200000</td>\n",
              "      <td>0.212122</td>\n",
              "      <td>0.590435</td>\n",
              "      <td>0.160296</td>\n",
              "      <td>108</td>\n",
              "      <td>1454</td>\n",
              "      <td>1562</td>\n",
              "    </tr>\n",
              "    <tr>\n",
              "      <th>4</th>\n",
              "      <td>5</td>\n",
              "      <td>2011-01-05</td>\n",
              "      <td>1</td>\n",
              "      <td>0</td>\n",
              "      <td>1</td>\n",
              "      <td>0</td>\n",
              "      <td>3</td>\n",
              "      <td>1</td>\n",
              "      <td>1</td>\n",
              "      <td>0.226957</td>\n",
              "      <td>0.229270</td>\n",
              "      <td>0.436957</td>\n",
              "      <td>0.186900</td>\n",
              "      <td>82</td>\n",
              "      <td>1518</td>\n",
              "      <td>1600</td>\n",
              "    </tr>\n",
              "  </tbody>\n",
              "</table>\n",
              "</div>"
            ],
            "text/plain": [
              "   instant      dteday  season  yr  mnth  holiday  weekday  workingday  \\\n",
              "0        1  2011-01-01       1   0     1        0        6           0   \n",
              "1        2  2011-01-02       1   0     1        0        0           0   \n",
              "2        3  2011-01-03       1   0     1        0        1           1   \n",
              "3        4  2011-01-04       1   0     1        0        2           1   \n",
              "4        5  2011-01-05       1   0     1        0        3           1   \n",
              "\n",
              "   weathersit      temp     atemp       hum  windspeed  casual  registered  \\\n",
              "0           2  0.344167  0.363625  0.805833   0.160446     331         654   \n",
              "1           2  0.363478  0.353739  0.696087   0.248539     131         670   \n",
              "2           1  0.196364  0.189405  0.437273   0.248309     120        1229   \n",
              "3           1  0.200000  0.212122  0.590435   0.160296     108        1454   \n",
              "4           1  0.226957  0.229270  0.436957   0.186900      82        1518   \n",
              "\n",
              "    cnt  \n",
              "0   985  \n",
              "1   801  \n",
              "2  1349  \n",
              "3  1562  \n",
              "4  1600  "
            ]
          },
          "execution_count": 67,
          "metadata": {},
          "output_type": "execute_result"
        }
      ],
      "source": [
        "bikes_per_day_df = pd.read_csv('data/day.csv')\n",
        "bikes_per_day_df.head()"
      ]
    },
    {
      "cell_type": "markdown",
      "metadata": {},
      "source": [
        "**Insight:**\n",
        "Dataset day.csv mirip dengan hour.csv, tetapi hanya mencatat data harian tanpa informasi per jam."
      ]
    },
    {
      "cell_type": "markdown",
      "metadata": {
        "id": "FHSiqaZp8DC1"
      },
      "source": [
        "### Assessing Data"
      ]
    },
    {
      "cell_type": "markdown",
      "metadata": {},
      "source": [
        "**Tabel hour.csv**"
      ]
    },
    {
      "cell_type": "code",
      "execution_count": 68,
      "metadata": {
        "colab": {
          "base_uri": "https://localhost:8080/"
        },
        "id": "ax-3tEjc9Cj1",
        "outputId": "e283288e-9a4c-4cf7-d643-9a090929c87a"
      },
      "outputs": [
        {
          "name": "stdout",
          "output_type": "stream",
          "text": [
            "<class 'pandas.core.frame.DataFrame'>\n",
            "RangeIndex: 17379 entries, 0 to 17378\n",
            "Data columns (total 17 columns):\n",
            " #   Column      Non-Null Count  Dtype  \n",
            "---  ------      --------------  -----  \n",
            " 0   instant     17379 non-null  int64  \n",
            " 1   dteday      17379 non-null  object \n",
            " 2   season      17379 non-null  int64  \n",
            " 3   yr          17379 non-null  int64  \n",
            " 4   mnth        17379 non-null  int64  \n",
            " 5   hr          17379 non-null  int64  \n",
            " 6   holiday     17379 non-null  int64  \n",
            " 7   weekday     17379 non-null  int64  \n",
            " 8   workingday  17379 non-null  int64  \n",
            " 9   weathersit  17379 non-null  int64  \n",
            " 10  temp        17379 non-null  float64\n",
            " 11  atemp       17379 non-null  float64\n",
            " 12  hum         17379 non-null  float64\n",
            " 13  windspeed   17379 non-null  float64\n",
            " 14  casual      17379 non-null  int64  \n",
            " 15  registered  17379 non-null  int64  \n",
            " 16  cnt         17379 non-null  int64  \n",
            "dtypes: float64(4), int64(12), object(1)\n",
            "memory usage: 2.3+ MB\n"
          ]
        }
      ],
      "source": [
        "bikes_per_hour_df.info()"
      ]
    },
    {
      "cell_type": "markdown",
      "metadata": {},
      "source": [
        "**insight:**\n",
        "Data diatas sudah aman karena tidak ada missing value nya, tetapi kolom dtday masih bersifat objek dan akan kita ubah ke datetime"
      ]
    },
    {
      "cell_type": "code",
      "execution_count": 69,
      "metadata": {},
      "outputs": [
        {
          "name": "stdout",
          "output_type": "stream",
          "text": [
            "Missing values in hour dataset:\n",
            "instant       0\n",
            "dteday        0\n",
            "season        0\n",
            "yr            0\n",
            "mnth          0\n",
            "hr            0\n",
            "holiday       0\n",
            "weekday       0\n",
            "workingday    0\n",
            "weathersit    0\n",
            "temp          0\n",
            "atemp         0\n",
            "hum           0\n",
            "windspeed     0\n",
            "casual        0\n",
            "registered    0\n",
            "cnt           0\n",
            "dtype: int64\n",
            "Duplicate values in hour dataset: 0\n"
          ]
        }
      ],
      "source": [
        "print(\"Missing values in hour dataset:\")\n",
        "print(bikes_per_hour_df.isna().sum())\n",
        "print(\"Duplicate values in hour dataset:\", bikes_per_hour_df.duplicated().sum())"
      ]
    },
    {
      "cell_type": "markdown",
      "metadata": {},
      "source": [
        "**Tabel day.csv**"
      ]
    },
    {
      "cell_type": "code",
      "execution_count": 70,
      "metadata": {},
      "outputs": [
        {
          "name": "stdout",
          "output_type": "stream",
          "text": [
            "<class 'pandas.core.frame.DataFrame'>\n",
            "RangeIndex: 731 entries, 0 to 730\n",
            "Data columns (total 16 columns):\n",
            " #   Column      Non-Null Count  Dtype  \n",
            "---  ------      --------------  -----  \n",
            " 0   instant     731 non-null    int64  \n",
            " 1   dteday      731 non-null    object \n",
            " 2   season      731 non-null    int64  \n",
            " 3   yr          731 non-null    int64  \n",
            " 4   mnth        731 non-null    int64  \n",
            " 5   holiday     731 non-null    int64  \n",
            " 6   weekday     731 non-null    int64  \n",
            " 7   workingday  731 non-null    int64  \n",
            " 8   weathersit  731 non-null    int64  \n",
            " 9   temp        731 non-null    float64\n",
            " 10  atemp       731 non-null    float64\n",
            " 11  hum         731 non-null    float64\n",
            " 12  windspeed   731 non-null    float64\n",
            " 13  casual      731 non-null    int64  \n",
            " 14  registered  731 non-null    int64  \n",
            " 15  cnt         731 non-null    int64  \n",
            "dtypes: float64(4), int64(11), object(1)\n",
            "memory usage: 91.5+ KB\n"
          ]
        }
      ],
      "source": [
        "bikes_per_day_df.info()"
      ]
    },
    {
      "cell_type": "code",
      "execution_count": 71,
      "metadata": {},
      "outputs": [
        {
          "name": "stdout",
          "output_type": "stream",
          "text": [
            "Missing values in day dataset:\n",
            "instant       0\n",
            "dteday        0\n",
            "season        0\n",
            "yr            0\n",
            "mnth          0\n",
            "holiday       0\n",
            "weekday       0\n",
            "workingday    0\n",
            "weathersit    0\n",
            "temp          0\n",
            "atemp         0\n",
            "hum           0\n",
            "windspeed     0\n",
            "casual        0\n",
            "registered    0\n",
            "cnt           0\n",
            "dtype: int64\n",
            "Duplicate values in day dataset: 0\n"
          ]
        }
      ],
      "source": [
        "print(\"Missing values in day dataset:\")\n",
        "print(bikes_per_day_df.isna().sum())\n",
        "print(\"Duplicate values in day dataset:\", bikes_per_day_df.duplicated().sum())"
      ]
    },
    {
      "cell_type": "markdown",
      "metadata": {},
      "source": [
        "**Insight:**\n",
        "- Sama seperti hour.csv, kolom dteday perlu dikonversi ke format datetime.\n",
        "- Tidak ada missing values atau duplikasi dalam day.csv."
      ]
    },
    {
      "cell_type": "markdown",
      "metadata": {
        "id": "EhN5R4hr8DC1"
      },
      "source": [
        "### Cleaning Data"
      ]
    },
    {
      "cell_type": "markdown",
      "metadata": {
        "id": "w3mfPs7k-vjN"
      },
      "source": [
        "Mengubah tipe data dteday menjadi datetime pada tabel day.csv"
      ]
    },
    {
      "cell_type": "code",
      "execution_count": 72,
      "metadata": {
        "id": "jVnYpprE9Evz"
      },
      "outputs": [
        {
          "name": "stdout",
          "output_type": "stream",
          "text": [
            "<class 'pandas.core.frame.DataFrame'>\n",
            "RangeIndex: 17379 entries, 0 to 17378\n",
            "Data columns (total 17 columns):\n",
            " #   Column      Non-Null Count  Dtype         \n",
            "---  ------      --------------  -----         \n",
            " 0   instant     17379 non-null  int64         \n",
            " 1   dteday      17379 non-null  datetime64[ns]\n",
            " 2   season      17379 non-null  int64         \n",
            " 3   yr          17379 non-null  int64         \n",
            " 4   mnth        17379 non-null  int64         \n",
            " 5   hr          17379 non-null  int64         \n",
            " 6   holiday     17379 non-null  int64         \n",
            " 7   weekday     17379 non-null  int64         \n",
            " 8   workingday  17379 non-null  int64         \n",
            " 9   weathersit  17379 non-null  int64         \n",
            " 10  temp        17379 non-null  float64       \n",
            " 11  atemp       17379 non-null  float64       \n",
            " 12  hum         17379 non-null  float64       \n",
            " 13  windspeed   17379 non-null  float64       \n",
            " 14  casual      17379 non-null  int64         \n",
            " 15  registered  17379 non-null  int64         \n",
            " 16  cnt         17379 non-null  int64         \n",
            "dtypes: datetime64[ns](1), float64(4), int64(12)\n",
            "memory usage: 2.3 MB\n"
          ]
        }
      ],
      "source": [
        "bikes_per_hour_df['dteday'] = pd.to_datetime(bikes_per_hour_df['dteday'])\n",
        "bikes_per_hour_df.info()"
      ]
    },
    {
      "cell_type": "code",
      "execution_count": 73,
      "metadata": {},
      "outputs": [
        {
          "name": "stdout",
          "output_type": "stream",
          "text": [
            "<class 'pandas.core.frame.DataFrame'>\n",
            "RangeIndex: 731 entries, 0 to 730\n",
            "Data columns (total 16 columns):\n",
            " #   Column      Non-Null Count  Dtype         \n",
            "---  ------      --------------  -----         \n",
            " 0   instant     731 non-null    int64         \n",
            " 1   dteday      731 non-null    datetime64[ns]\n",
            " 2   season      731 non-null    int64         \n",
            " 3   yr          731 non-null    int64         \n",
            " 4   mnth        731 non-null    int64         \n",
            " 5   holiday     731 non-null    int64         \n",
            " 6   weekday     731 non-null    int64         \n",
            " 7   workingday  731 non-null    int64         \n",
            " 8   weathersit  731 non-null    int64         \n",
            " 9   temp        731 non-null    float64       \n",
            " 10  atemp       731 non-null    float64       \n",
            " 11  hum         731 non-null    float64       \n",
            " 12  windspeed   731 non-null    float64       \n",
            " 13  casual      731 non-null    int64         \n",
            " 14  registered  731 non-null    int64         \n",
            " 15  cnt         731 non-null    int64         \n",
            "dtypes: datetime64[ns](1), float64(4), int64(11)\n",
            "memory usage: 91.5 KB\n"
          ]
        }
      ],
      "source": [
        "bikes_per_day_df['dteday'] = pd.to_datetime(bikes_per_day_df['dteday'])\n",
        "bikes_per_day_df.info()"
      ]
    },
    {
      "cell_type": "markdown",
      "metadata": {
        "id": "Q_5ejIqckiSP"
      },
      "source": [
        "**Insight:**\n",
        "- kolom dtday pada kedua tabel sudah kita ubah ke format datetime"
      ]
    },
    {
      "cell_type": "markdown",
      "metadata": {
        "id": "gp-Y6wU38DC1"
      },
      "source": [
        "## Exploratory Data Analysis (EDA)"
      ]
    },
    {
      "cell_type": "markdown",
      "metadata": {
        "id": "MW7WF2kr8DC1"
      },
      "source": [
        "### Analisis Tren Peminjaman Sepeda Berdasarkan Bulan dan musim"
      ]
    },
    {
      "cell_type": "code",
      "execution_count": 74,
      "metadata": {
        "colab": {
          "base_uri": "https://localhost:8080/",
          "height": 528
        },
        "id": "e9CQCZjk8DC2",
        "outputId": "eabfe730-e1d1-4940-8301-eb8b70c423fb"
      },
      "outputs": [
        {
          "name": "stdout",
          "output_type": "stream",
          "text": [
            "year_month\n",
            "2011-01     38189\n",
            "2011-02     48215\n",
            "2011-03     64045\n",
            "2011-04     94870\n",
            "2011-05    135821\n",
            "2011-06    143512\n",
            "2011-07    141341\n",
            "2011-08    136691\n",
            "2011-09    127418\n",
            "2011-10    123511\n",
            "2011-11    102167\n",
            "2011-12     87323\n",
            "2012-01     96744\n",
            "2012-02    103137\n",
            "2012-03    164875\n",
            "2012-04    174224\n",
            "2012-05    195865\n",
            "2012-06    202830\n",
            "2012-07    203607\n",
            "2012-08    214503\n",
            "2012-09    218573\n",
            "2012-10    198841\n",
            "2012-11    152664\n",
            "2012-12    123713\n",
            "Freq: M, Name: cnt, dtype: int64\n"
          ]
        }
      ],
      "source": [
        "bikes_per_day_df['year_month'] = bikes_per_day_df['dteday'].dt.to_period('M')\n",
        "monthly_trend = bikes_per_day_df.groupby('year_month')['cnt'].sum()\n",
        "print(monthly_trend)\n"
      ]
    },
    {
      "cell_type": "markdown",
      "metadata": {},
      "source": [
        "**Insight:**\n",
        "- Peminjaman mulai meningkat dari Maret, mencapai puncaknya antara Juni - September.\n",
        "- Peminjaman mulai menurun setelah Oktober hingga titik terendah di Desember - Januari."
      ]
    },
    {
      "cell_type": "code",
      "execution_count": 75,
      "metadata": {},
      "outputs": [
        {
          "name": "stdout",
          "output_type": "stream",
          "text": [
            "                 cnt  casual  registered\n",
            "season_name                             \n",
            "Fall         1061129  226091      835038\n",
            "Summer        918589  203522      715067\n",
            "Winter        841613  129782      711831\n",
            "Spring        471348   60622      410726\n"
          ]
        }
      ],
      "source": [
        "season_mapping = {1: \"Spring\", 2: \"Summer\", 3: \"Fall\", 4: \"Winter\"}\n",
        "bikes_per_day_df[\"season_name\"] = bikes_per_day_df[\"season\"].map(season_mapping)\n",
        "\n",
        "seasonal_usage = bikes_per_day_df.groupby(\"season_name\")[[\"cnt\", \"casual\", \"registered\"]].sum()\n",
        "seasonal_usage = seasonal_usage.sort_values(by=\"cnt\", ascending=False)\n",
        "print(seasonal_usage)\n"
      ]
    },
    {
      "cell_type": "markdown",
      "metadata": {},
      "source": [
        "**Insight:**\n",
        "- Peminjaman tertinggi terjadi pada musim Fall (Gugur).\n",
        "- Pengguna kasual lebih banyak meminjam di Summer dan Fall."
      ]
    },
    {
      "cell_type": "markdown",
      "metadata": {},
      "source": [
        "**Analisis Pengaruh Kondisi Cuaca terhadap Peminjaman Sepeda**"
      ]
    },
    {
      "cell_type": "code",
      "execution_count": 76,
      "metadata": {},
      "outputs": [
        {
          "name": "stdout",
          "output_type": "stream",
          "text": [
            "               temp       hum  windspeed       cnt\n",
            "temp       1.000000  0.126963  -0.157944  0.627494\n",
            "hum        0.126963  1.000000  -0.248489 -0.100659\n",
            "windspeed -0.157944 -0.248489   1.000000 -0.234545\n",
            "cnt        0.627494 -0.100659  -0.234545  1.000000\n"
          ]
        }
      ],
      "source": [
        "weather_corr = bikes_per_day_df[['temp', 'hum', 'windspeed', 'cnt']].corr()\n",
        "print(weather_corr)"
      ]
    },
    {
      "cell_type": "markdown",
      "metadata": {},
      "source": [
        "**Insight:**\n",
        "- **Suhu (temp)** berkorelasi positif tinggi (0.63) terhadap jumlah peminjaman sepeda.\n",
        "- **Kecepatan angin (windspeed)** berkorelasi negatif (-0.23), artinya angin kencang mengurangi jumlah peminjaman.\n",
        "- **Kelembaban (hum)** tidak memiliki pengaruh yang signifikan."
      ]
    },
    {
      "cell_type": "markdown",
      "metadata": {},
      "source": [
        "**Analisis Perbandingan Pengguna Kasual dan Terdaftar**"
      ]
    },
    {
      "cell_type": "code",
      "execution_count": 77,
      "metadata": {},
      "outputs": [
        {
          "name": "stdout",
          "output_type": "stream",
          "text": [
            "casual         620017\n",
            "registered    2672662\n",
            "dtype: int64\n"
          ]
        }
      ],
      "source": [
        "user_type_usage = bikes_per_day_df[['casual', 'registered']].sum()\n",
        "print(user_type_usage)\n"
      ]
    },
    {
      "cell_type": "markdown",
      "metadata": {},
      "source": [
        "**Insight:**\n",
        "- Pengguna terdaftar meminjam sepeda lebih banyak dibandingkan pengguna kasual."
      ]
    },
    {
      "cell_type": "markdown",
      "metadata": {},
      "source": [
        "**Analisis Kebiasaan Pengguna Kasual Sepeda pada Akhir Pekan**"
      ]
    },
    {
      "cell_type": "code",
      "execution_count": 78,
      "metadata": {},
      "outputs": [
        {
          "name": "stdout",
          "output_type": "stream",
          "text": [
            "weekday\n",
            "0    140521\n",
            "1     70784\n",
            "2     57843\n",
            "3     57319\n",
            "4     61460\n",
            "5     78238\n",
            "6    153852\n",
            "Name: casual, dtype: int64\n"
          ]
        }
      ],
      "source": [
        "casual_weekday = bikes_per_day_df.groupby(\"weekday\")[\"casual\"].sum()\n",
        "print(casual_weekday)"
      ]
    },
    {
      "cell_type": "markdown",
      "metadata": {},
      "source": [
        "**Insight:**\n",
        "- Pengguna **kasual lebih sering meminjam sepeda pada akhir pekan**, terutama pada akhir pekan."
      ]
    },
    {
      "cell_type": "markdown",
      "metadata": {
        "id": "zsyZjqak8DC2"
      },
      "source": [
        "## Visualization & Explanatory Analysis"
      ]
    },
    {
      "cell_type": "markdown",
      "metadata": {
        "id": "HZxOiQ6n8DC2"
      },
      "source": [
        "### Pertanyaan 1: Bagaimana pola peminjaman sepeda berdasarkan bulan dan musim?"
      ]
    },
    {
      "cell_type": "code",
      "execution_count": 79,
      "metadata": {
        "colab": {
          "base_uri": "https://localhost:8080/",
          "height": 594
        },
        "id": "1swJUdAD8DC2",
        "outputId": "e4505624-f5c1-4045-82ba-08041ff64e95"
      },
      "outputs": [
        {
          "data": {
            "image/png": "[encoded data removed]",
            "text/plain": [
              "<Figure size 1000x600 with 1 Axes>"
            ]
          },
          "metadata": {},
          "output_type": "display_data"
        }
      ],
      "source": [
        "# Mengelompokkan jumlah peminjaman berdasarkan bulan\n",
        "monthly_trend = bikes_per_day_df.groupby(bikes_per_day_df['dteday'].dt.month)['cnt'].sum()\n",
        "\n",
        "# Membuat line chart\n",
        "plt.figure(figsize=(10, 6))\n",
        "sns.lineplot(x=monthly_trend.index, y=monthly_trend.values, marker=\"o\", linewidth=2, color=\"royalblue\")\n",
        "\n",
        "# Menambahkan judul dan label\n",
        "plt.title(\"Tren Jumlah Peminjaman Sepeda per Bulan\", fontsize=14)\n",
        "plt.xlabel(\"Bulan\", fontsize=12)\n",
        "plt.ylabel(\"Jumlah Peminjaman Sepeda\", fontsize=12)\n",
        "plt.xticks(ticks=range(1, 13), labels=[\n",
        "    \"Jan\", \"Feb\", \"Mar\", \"Apr\", \"Mei\", \"Jun\", \"Jul\", \"Agu\", \"Sep\", \"Okt\", \"Nov\", \"Des\"])\n",
        "\n",
        "# Menampilkan plot\n",
        "plt.grid(True, alpha=0.6)\n",
        "plt.show()"
      ]
    },
    {
      "cell_type": "markdown",
      "metadata": {},
      "source": [
        "**Insight:**\n",
        "- Tren peminjaman sepeda meningkat pada pertengahan tahun, terutama dari April hingga September.  \n",
        "- Pada 2011, peminjaman naik signifikan dari April hingga Juli sebelum mulai menurun.  \n",
        "- Pada 2012, tren serupa terjadi dengan peningkatan dari April hingga September.  \n",
        "- Secara umum, peminjaman lebih sering terjadi pada pertengahan hingga akhir tahun dibanding awal tahun."
      ]
    },
    {
      "cell_type": "code",
      "execution_count": 80,
      "metadata": {},
      "outputs": [
        {
          "name": "stderr",
          "output_type": "stream",
          "text": [
            "C:\\Users\\ADVAN\\AppData\\Local\\Temp\\ipykernel_9072\\1273392168.py:6: FutureWarning: \n",
            "\n",
            "Passing `palette` without assigning `hue` is deprecated and will be removed in v0.14.0. Assign the `x` variable to `hue` and set `legend=False` for the same effect.\n",
            "\n",
            "  sns.barplot(x=seasonal_usage.index, y=seasonal_usage.values, palette=\"coolwarm\")\n"
          ]
        },
        {
          "data": {
            "image/png": "[encoded data removed]",
            "text/plain": [
              "<Figure size 800x600 with 1 Axes>"
            ]
          },
          "metadata": {},
          "output_type": "display_data"
        }
      ],
      "source": [
        "# Mengelompokkan data berdasarkan musim dan menjumlahkan peminjaman sepeda\n",
        "seasonal_usage = bikes_per_day_df.groupby(\"season\")[\"cnt\"].sum()\n",
        "\n",
        "# Membuat bar chart\n",
        "plt.figure(figsize=(8, 6))\n",
        "sns.barplot(x=seasonal_usage.index, y=seasonal_usage.values, palette=\"coolwarm\")\n",
        "\n",
        "# Menambahkan judul dan label\n",
        "plt.title(\"Jumlah Peminjaman Sepeda Berdasarkan Musim\", fontsize=14)\n",
        "plt.xlabel(\"Musim\", fontsize=12)\n",
        "plt.ylabel(\"Jumlah Peminjaman\", fontsize=12)\n",
        "plt.xticks(ticks=[0, 1, 2, 3], labels=[\"Musim Semi\", \"Musim Panas\", \"Musim Gugur\", \"Musim Dingin\"])\n",
        "\n",
        "# Menampilkan plot\n",
        "plt.show()\n"
      ]
    },
    {
      "cell_type": "markdown",
      "metadata": {},
      "source": [
        "**Insight:**\n",
        "- **Musim gugur** memiliki jumlah peminjaman tertinggi, terutama oleh pengguna kasual.\n",
        "- **Musim dingin** memiliki peminjaman paling sedikit."
      ]
    },
    {
      "cell_type": "markdown",
      "metadata": {
        "id": "DgHI7CiU8DC2"
      },
      "source": [
        "### Pertanyaan 2: Bagaimana pengaruh kondisi cuaca terhadap peminjaman sepeda?"
      ]
    },
    {
      "cell_type": "code",
      "execution_count": 81,
      "metadata": {
        "colab": {
          "base_uri": "https://localhost:8080/",
          "height": 594
        },
        "id": "Go0lCsvO8DC2",
        "outputId": "9ea1d3a9-1819-4137-9a93-a96695b60e88"
      },
      "outputs": [
        {
          "data": {
            "image/png": "[encoded data removed]",
            "text/plain": [
              "<Figure size 800x600 with 2 Axes>"
            ]
          },
          "metadata": {},
          "output_type": "display_data"
        }
      ],
      "source": [
        "weather_corr = bikes_per_day_df[['temp', 'hum', 'windspeed', 'cnt']].corr()\n",
        "plt.figure(figsize=(8, 6))\n",
        "sns.heatmap(weather_corr, annot=True, cmap=\"coolwarm\", fmt=\".2f\")\n",
        "plt.title(\"Korelasi antara Cuaca dan Jumlah Peminjaman Sepeda\")\n",
        "plt.show()"
      ]
    },
    {
      "cell_type": "markdown",
      "metadata": {
        "id": "bBtfPxpBqhej"
      },
      "source": [
        "**Insight:**\n",
        "- **Suhu (temp)** berkorelasi positif tinggi (0.63) terhadap jumlah peminjaman sepeda.\n",
        "- **Kecepatan angin (windspeed)** berkorelasi negatif (-0.23), artinya angin kencang mengurangi jumlah peminjaman."
      ]
    },
    {
      "cell_type": "markdown",
      "metadata": {},
      "source": [
        "### Pertanyaan 3: Bagaimana perbandingan jumlah peminjaman antara pengguna kasual dan pengguna terdaftar?"
      ]
    },
    {
      "cell_type": "code",
      "execution_count": 82,
      "metadata": {},
      "outputs": [
        {
          "data": {
            "image/png": "[encoded data removed]",
            "text/plain": [
              "<Figure size 800x600 with 1 Axes>"
            ]
          },
          "metadata": {},
          "output_type": "display_data"
        }
      ],
      "source": [
        "user_type_usage = bikes_per_day_df[['casual', 'registered']].sum()\n",
        "user_type_usage.plot(kind=\"bar\", color=[\"orange\", \"blue\"], figsize=(8, 6))\n",
        "plt.title(\"Perbandingan Peminjaman Sepeda: Casual vs Registered\")\n",
        "plt.ylabel(\"Jumlah Peminjaman\")\n",
        "plt.xticks(rotation=0)\n",
        "plt.show()"
      ]
    },
    {
      "cell_type": "markdown",
      "metadata": {},
      "source": [
        "**Insight:**\n",
        "- Jumlah peminjaman oleh pengguna terdaftar (registered) jauh lebih tinggi dibandingkan pengguna kasual (casual).\n",
        "- Pengguna terdaftar meminjam sepeda lebih dari 4 kali lipat dibanding pengguna kasual.\n",
        "- Hal ini menunjukkan bahwa layanan peminjaman sepeda lebih banyak digunakan oleh pelanggan tetap dibanding pengguna sesekali."
      ]
    },
    {
      "cell_type": "markdown",
      "metadata": {},
      "source": [
        "### Pertanyaan 4: Apakah pengguna kasual lebih sering menggunakan sepeda pada akhir pekan dibandingkan hari kerja?"
      ]
    },
    {
      "cell_type": "code",
      "execution_count": 83,
      "metadata": {},
      "outputs": [
        {
          "name": "stderr",
          "output_type": "stream",
          "text": [
            "C:\\Users\\ADVAN\\AppData\\Local\\Temp\\ipykernel_9072\\2646350854.py:2: FutureWarning: \n",
            "\n",
            "Passing `palette` without assigning `hue` is deprecated and will be removed in v0.14.0. Assign the `x` variable to `hue` and set `legend=False` for the same effect.\n",
            "\n",
            "  sns.barplot(x=day_labels, y=casual_weekday.values, palette=\"mako\")\n"
          ]
        },
        {
          "data": {
            "image/png": "[encoded data removed]",
            "text/plain": [
              "<Figure size 640x480 with 1 Axes>"
            ]
          },
          "metadata": {},
          "output_type": "display_data"
        }
      ],
      "source": [
        "casual_weekday = bikes_per_day_df.groupby(\"weekday\")[\"casual\"].sum()\n",
        "sns.barplot(x=day_labels, y=casual_weekday.values, palette=\"mako\")\n",
        "plt.title(\"Peminjaman Sepeda oleh Pengguna Kasual per Hari\")\n",
        "plt.ylabel(\"Jumlah Peminjaman\")\n",
        "plt.xticks(rotation=0)\n",
        "plt.show()"
      ]
    },
    {
      "cell_type": "markdown",
      "metadata": {},
      "source": [
        "**Insight:**\n",
        "- Pengguna kasual lebih sering menggunakan sepeda pada akhir pekan dibandingkan hari kerja.\n",
        "- Peningkatan signifikan terlihat terutama pada hari ke-0 dan ke-6, yang menunjukkan bahwa mereka lebih memilih bersepeda sebagai aktivitas rekreasi saat libur.\n",
        "- Hari kerja memiliki jumlah peminjaman yang lebih rendah dan merata, menunjukkan bahwa sepeda kemungkinan kurang digunakan untuk keperluan komuter oleh pengguna kasual."
      ]
    },
    {
      "cell_type": "markdown",
      "metadata": {
        "id": "_WeHlCeX8DC2"
      },
      "source": [
        "## Conclusion"
      ]
    },
    {
      "cell_type": "markdown",
      "metadata": {
        "id": "ZTcyR48Y8DC2"
      },
      "source": [
        "Berdasarkan hasil analisis data peminjaman sepeda, berikut adalah kesimpulan utama:\n",
        "\n",
        "1. **Tren Peminjaman Sepeda Berdasarkan Bulan dan Musim**  \n",
        "   - Peminjaman sepeda cenderung meningkat pada pertengahan tahun, terutama dari bulan **April hingga September**.  \n",
        "   - Musim gugur memiliki jumlah peminjaman tertinggi, terutama oleh pengguna kasual.  \n",
        "   - Pada akhir tahun, terutama **Desember**, jumlah peminjaman menurun signifikan.  \n",
        "\n",
        "2. **Pengaruh Kondisi Cuaca terhadap Peminjaman Sepeda**  \n",
        "   - **Suhu (temp)** memiliki korelasi positif terhadap peminjaman sepeda, artinya semakin hangat suhu, semakin tinggi peminjamannya.  \n",
        "   - **Kelembaban (hum)** memiliki korelasi yang sangat lemah, sehingga tidak terlalu berpengaruh terhadap keputusan pengguna dalam meminjam sepeda.  \n",
        "   - **Kecepatan angin (windspeed)** memiliki korelasi negatif terhadap peminjaman, menunjukkan bahwa angin kencang cenderung mengurangi jumlah peminjaman sepeda.  \n",
        "\n",
        "3. **Perbandingan Pengguna Kasual dan Pengguna Terdaftar**  \n",
        "   - Pengguna **terdaftar (registered)** jauh lebih sering meminjam sepeda dibandingkan pengguna **kasual (casual)**.  \n",
        "   - Jumlah peminjaman pengguna terdaftar lebih dari **4 kali lipat** dibandingkan pengguna kasual.  \n",
        "   - Hal ini menunjukkan bahwa mayoritas pengguna adalah pelanggan tetap yang memanfaatkan layanan ini secara rutin.  \n",
        "\n",
        "4. **Kebiasaan Pengguna Kasual pada Akhir Pekan**  \n",
        "   - Pengguna kasual lebih sering meminjam sepeda pada **akhir pekan** dibandingkan hari kerja.  \n",
        "   - Peminjaman meningkat signifikan pada hari **Sabtu dan Minggu**, menunjukkan bahwa sepeda lebih sering digunakan sebagai aktivitas rekreasi oleh pengguna kasual.  \n",
        "   - Pada hari kerja, jumlah peminjaman oleh pengguna kasual relatif lebih rendah dan merata.  \n",
        "\n",
        "Kesimpulan ini dapat menjadi dasar untuk mengembangkan strategi dalam meningkatkan jumlah peminjaman sepeda, seperti memberikan promo pada musim dingin atau menargetkan pengguna kasual dengan program khusus di akhir pekan.  \n"
      ]
    }
  ],
  "metadata": {
    "colab": {
      "provenance": []
    },
    "kernelspec": {
      "display_name": ".venv",
      "language": "python",
      "name": "python3"
    },
    "language_info": {
      "codemirror_mode": {
        "name": "ipython",
        "version": 3
      },
      "file_extension": ".py",
      "mimetype": "text/x-python",
      "name": "python",
      "nbconvert_exporter": "python",
      "pygments_lexer": "ipython3",
      "version": "3.13.0"
    },
    "orig_nbformat": 4
  },
  "nbformat": 4,
  "nbformat_minor": 0
}
